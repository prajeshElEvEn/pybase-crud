{
 "cells": [
  {
   "attachments": {},
   "cell_type": "markdown",
   "metadata": {},
   "source": [
    "# Firebase CRUD Operations\n"
   ]
  },
  {
   "attachments": {},
   "cell_type": "markdown",
   "metadata": {},
   "source": [
    "## Installing Dependencies\n"
   ]
  },
  {
   "cell_type": "code",
   "execution_count": 12,
   "metadata": {},
   "outputs": [
    {
     "name": "stdout",
     "output_type": "stream",
     "text": [
      "Requirement already satisfied: asttokens==2.2.1 in ./venv/lib/python3.8/site-packages (from -r requirements.txt (line 1)) (2.2.1)\n",
      "Requirement already satisfied: backcall==0.2.0 in ./venv/lib/python3.8/site-packages (from -r requirements.txt (line 2)) (0.2.0)\n",
      "Requirement already satisfied: cachecontrol==0.13.1 in ./venv/lib/python3.8/site-packages (from -r requirements.txt (line 3)) (0.13.1)\n",
      "Requirement already satisfied: cachetools==5.3.1 in ./venv/lib/python3.8/site-packages (from -r requirements.txt (line 4)) (5.3.1)\n",
      "Requirement already satisfied: certifi==2023.5.7 in ./venv/lib/python3.8/site-packages (from -r requirements.txt (line 5)) (2023.5.7)\n",
      "Requirement already satisfied: cffi==1.15.1 in ./venv/lib/python3.8/site-packages (from -r requirements.txt (line 6)) (1.15.1)\n",
      "Requirement already satisfied: charset-normalizer==3.1.0 in ./venv/lib/python3.8/site-packages (from -r requirements.txt (line 7)) (3.1.0)\n",
      "Requirement already satisfied: comm==0.1.3 in ./venv/lib/python3.8/site-packages (from -r requirements.txt (line 8)) (0.1.3)\n",
      "Requirement already satisfied: cryptography==41.0.1 in ./venv/lib/python3.8/site-packages (from -r requirements.txt (line 9)) (41.0.1)\n",
      "Requirement already satisfied: debugpy==1.6.7 in ./venv/lib/python3.8/site-packages (from -r requirements.txt (line 10)) (1.6.7)\n",
      "Requirement already satisfied: decorator==5.1.1 in ./venv/lib/python3.8/site-packages (from -r requirements.txt (line 11)) (5.1.1)\n",
      "Requirement already satisfied: executing==1.2.0 in ./venv/lib/python3.8/site-packages (from -r requirements.txt (line 12)) (1.2.0)\n",
      "Requirement already satisfied: firebase-admin==6.1.0 in ./venv/lib/python3.8/site-packages (from -r requirements.txt (line 13)) (6.1.0)\n",
      "Requirement already satisfied: google-api-core==2.11.0 in ./venv/lib/python3.8/site-packages (from -r requirements.txt (line 14)) (2.11.0)\n",
      "Requirement already satisfied: google-api-python-client==2.89.0 in ./venv/lib/python3.8/site-packages (from -r requirements.txt (line 15)) (2.89.0)\n",
      "Requirement already satisfied: google-auth==2.20.0 in ./venv/lib/python3.8/site-packages (from -r requirements.txt (line 16)) (2.20.0)\n",
      "Requirement already satisfied: google-auth-httplib2==0.1.0 in ./venv/lib/python3.8/site-packages (from -r requirements.txt (line 17)) (0.1.0)\n",
      "Requirement already satisfied: google-cloud-core==2.3.2 in ./venv/lib/python3.8/site-packages (from -r requirements.txt (line 18)) (2.3.2)\n",
      "Requirement already satisfied: google-cloud-firestore==2.11.1 in ./venv/lib/python3.8/site-packages (from -r requirements.txt (line 19)) (2.11.1)\n",
      "Requirement already satisfied: google-cloud-storage==2.9.0 in ./venv/lib/python3.8/site-packages (from -r requirements.txt (line 20)) (2.9.0)\n",
      "Requirement already satisfied: google-crc32c==1.5.0 in ./venv/lib/python3.8/site-packages (from -r requirements.txt (line 21)) (1.5.0)\n",
      "Requirement already satisfied: google-resumable-media==2.5.0 in ./venv/lib/python3.8/site-packages (from -r requirements.txt (line 22)) (2.5.0)\n",
      "Requirement already satisfied: googleapis-common-protos==1.59.1 in ./venv/lib/python3.8/site-packages (from -r requirements.txt (line 23)) (1.59.1)\n",
      "Requirement already satisfied: grpcio==1.54.2 in ./venv/lib/python3.8/site-packages (from -r requirements.txt (line 24)) (1.54.2)\n",
      "Requirement already satisfied: grpcio-status==1.54.2 in ./venv/lib/python3.8/site-packages (from -r requirements.txt (line 25)) (1.54.2)\n",
      "Requirement already satisfied: httplib2==0.22.0 in ./venv/lib/python3.8/site-packages (from -r requirements.txt (line 26)) (0.22.0)\n",
      "Requirement already satisfied: idna==3.4 in ./venv/lib/python3.8/site-packages (from -r requirements.txt (line 27)) (3.4)\n",
      "Requirement already satisfied: importlib-metadata==6.6.0 in ./venv/lib/python3.8/site-packages (from -r requirements.txt (line 28)) (6.6.0)\n",
      "Requirement already satisfied: ipykernel==6.23.2 in ./venv/lib/python3.8/site-packages (from -r requirements.txt (line 29)) (6.23.2)\n",
      "Requirement already satisfied: ipython==8.12.2 in ./venv/lib/python3.8/site-packages (from -r requirements.txt (line 30)) (8.12.2)\n",
      "Requirement already satisfied: jedi==0.18.2 in ./venv/lib/python3.8/site-packages (from -r requirements.txt (line 31)) (0.18.2)\n",
      "Requirement already satisfied: jupyter-client==8.2.0 in ./venv/lib/python3.8/site-packages (from -r requirements.txt (line 32)) (8.2.0)\n",
      "Requirement already satisfied: jupyter-core==5.3.0 in ./venv/lib/python3.8/site-packages (from -r requirements.txt (line 33)) (5.3.0)\n",
      "Requirement already satisfied: matplotlib-inline==0.1.6 in ./venv/lib/python3.8/site-packages (from -r requirements.txt (line 34)) (0.1.6)\n",
      "Requirement already satisfied: msgpack==1.0.5 in ./venv/lib/python3.8/site-packages (from -r requirements.txt (line 35)) (1.0.5)\n",
      "Requirement already satisfied: nest-asyncio==1.5.6 in ./venv/lib/python3.8/site-packages (from -r requirements.txt (line 36)) (1.5.6)\n",
      "Requirement already satisfied: packaging==23.1 in ./venv/lib/python3.8/site-packages (from -r requirements.txt (line 37)) (23.1)\n",
      "Requirement already satisfied: parso==0.8.3 in ./venv/lib/python3.8/site-packages (from -r requirements.txt (line 38)) (0.8.3)\n",
      "Requirement already satisfied: pexpect==4.8.0 in ./venv/lib/python3.8/site-packages (from -r requirements.txt (line 39)) (4.8.0)\n",
      "Requirement already satisfied: pickleshare==0.7.5 in ./venv/lib/python3.8/site-packages (from -r requirements.txt (line 40)) (0.7.5)\n",
      "Requirement already satisfied: platformdirs==3.5.3 in ./venv/lib/python3.8/site-packages (from -r requirements.txt (line 41)) (3.5.3)\n",
      "Requirement already satisfied: prompt-toolkit==3.0.38 in ./venv/lib/python3.8/site-packages (from -r requirements.txt (line 42)) (3.0.38)\n",
      "Requirement already satisfied: proto-plus==1.22.2 in ./venv/lib/python3.8/site-packages (from -r requirements.txt (line 43)) (1.22.2)\n",
      "Requirement already satisfied: protobuf==4.23.2 in ./venv/lib/python3.8/site-packages (from -r requirements.txt (line 44)) (4.23.2)\n",
      "Requirement already satisfied: psutil==5.9.5 in ./venv/lib/python3.8/site-packages (from -r requirements.txt (line 45)) (5.9.5)\n",
      "Requirement already satisfied: ptyprocess==0.7.0 in ./venv/lib/python3.8/site-packages (from -r requirements.txt (line 46)) (0.7.0)\n",
      "Requirement already satisfied: pure-eval==0.2.2 in ./venv/lib/python3.8/site-packages (from -r requirements.txt (line 47)) (0.2.2)\n",
      "Requirement already satisfied: pyasn1==0.5.0 in ./venv/lib/python3.8/site-packages (from -r requirements.txt (line 48)) (0.5.0)\n",
      "Requirement already satisfied: pyasn1-modules==0.3.0 in ./venv/lib/python3.8/site-packages (from -r requirements.txt (line 49)) (0.3.0)\n",
      "Requirement already satisfied: pycparser==2.21 in ./venv/lib/python3.8/site-packages (from -r requirements.txt (line 50)) (2.21)\n",
      "Requirement already satisfied: Pygments==2.15.1 in ./venv/lib/python3.8/site-packages (from -r requirements.txt (line 51)) (2.15.1)\n",
      "Requirement already satisfied: PyJWT==2.7.0 in ./venv/lib/python3.8/site-packages (from -r requirements.txt (line 52)) (2.7.0)\n",
      "Requirement already satisfied: pyparsing==3.0.9 in ./venv/lib/python3.8/site-packages (from -r requirements.txt (line 53)) (3.0.9)\n",
      "Requirement already satisfied: python-dateutil==2.8.2 in ./venv/lib/python3.8/site-packages (from -r requirements.txt (line 54)) (2.8.2)\n",
      "Requirement already satisfied: pyzmq==25.1.0 in ./venv/lib/python3.8/site-packages (from -r requirements.txt (line 55)) (25.1.0)\n",
      "Requirement already satisfied: requests==2.31.0 in ./venv/lib/python3.8/site-packages (from -r requirements.txt (line 56)) (2.31.0)\n",
      "Requirement already satisfied: rsa==4.9 in ./venv/lib/python3.8/site-packages (from -r requirements.txt (line 57)) (4.9)\n",
      "Requirement already satisfied: six==1.16.0 in ./venv/lib/python3.8/site-packages (from -r requirements.txt (line 58)) (1.16.0)\n",
      "Requirement already satisfied: stack-data==0.6.2 in ./venv/lib/python3.8/site-packages (from -r requirements.txt (line 59)) (0.6.2)\n",
      "Requirement already satisfied: tornado==6.3.2 in ./venv/lib/python3.8/site-packages (from -r requirements.txt (line 60)) (6.3.2)\n",
      "Requirement already satisfied: traitlets==5.9.0 in ./venv/lib/python3.8/site-packages (from -r requirements.txt (line 61)) (5.9.0)\n",
      "Requirement already satisfied: typing-extensions==4.6.3 in ./venv/lib/python3.8/site-packages (from -r requirements.txt (line 62)) (4.6.3)\n",
      "Requirement already satisfied: uritemplate==4.1.1 in ./venv/lib/python3.8/site-packages (from -r requirements.txt (line 63)) (4.1.1)\n",
      "Requirement already satisfied: urllib3==2.0.3 in ./venv/lib/python3.8/site-packages (from -r requirements.txt (line 64)) (2.0.3)\n",
      "Requirement already satisfied: wcwidth==0.2.6 in ./venv/lib/python3.8/site-packages (from -r requirements.txt (line 65)) (0.2.6)\n",
      "Requirement already satisfied: zipp==3.15.0 in ./venv/lib/python3.8/site-packages (from -r requirements.txt (line 66)) (3.15.0)\n",
      "Note: you may need to restart the kernel to use updated packages.\n"
     ]
    }
   ],
   "source": [
    "%pip install -r requirements.txt\n"
   ]
  },
  {
   "attachments": {},
   "cell_type": "markdown",
   "metadata": {},
   "source": [
    "## Initializing Firebase Admin SDK\n"
   ]
  },
  {
   "cell_type": "code",
   "execution_count": 14,
   "metadata": {},
   "outputs": [],
   "source": [
    "import firebase_admin\n",
    "from firebase_admin import credentials\n",
    "\n",
    "# Initialize Firebase Admin SDK\n",
    "cred = credentials.Certificate('path/to/serviceAccountKey.json')\n",
    "firebase_admin.initialize_app(cred)"
   ]
  },
  {
   "attachments": {},
   "cell_type": "markdown",
   "metadata": {},
   "source": [
    "## Creating a Document\n"
   ]
  },
  {
   "cell_type": "code",
   "execution_count": 15,
   "metadata": {},
   "outputs": [],
   "source": [
    "from firebase_admin import firestore\n",
    "\n",
    "# Create a new document in Firestore\n",
    "\n",
    "\n",
    "def create_document(collection, document_data):\n",
    "    db = firestore.client()\n",
    "    doc_ref = db.collection(collection).document()\n",
    "    doc_ref.set(document_data)\n",
    "    print('Document created with ID:', doc_ref.id)"
   ]
  },
  {
   "cell_type": "code",
   "execution_count": 16,
   "metadata": {},
   "outputs": [
    {
     "name": "stdout",
     "output_type": "stream",
     "text": [
      "Document created with ID: jnwH6X3990VE4FJbdpIT\n"
     ]
    }
   ],
   "source": [
    "# Usage example\n",
    "create_document('users', {'name': 'John Doe', 'email': 'johndoe@example.com'})\n"
   ]
  },
  {
   "attachments": {},
   "cell_type": "markdown",
   "metadata": {},
   "source": [
    "## Reading a Document\n"
   ]
  },
  {
   "cell_type": "code",
   "execution_count": 17,
   "metadata": {},
   "outputs": [],
   "source": [
    "# Read a document from Firestore\n",
    "def read_document(collection, document_id):\n",
    "    db = firestore.client()\n",
    "    doc_ref = db.collection(collection).document(document_id)\n",
    "    document = doc_ref.get()\n",
    "    if document.exists:\n",
    "        print('Document data:', document.to_dict())\n",
    "    else:\n",
    "        print('No such document!')"
   ]
  },
  {
   "cell_type": "code",
   "execution_count": 18,
   "metadata": {},
   "outputs": [
    {
     "name": "stdout",
     "output_type": "stream",
     "text": [
      "Document data: {'email': 'johndoe@example.com', 'name': 'John Doe'}\n"
     ]
    }
   ],
   "source": [
    "# Usage example\n",
    "read_document('users', 'jnwH6X3990VE4FJbdpIT')\n"
   ]
  },
  {
   "attachments": {},
   "cell_type": "markdown",
   "metadata": {},
   "source": [
    "## Updating a Document\n"
   ]
  },
  {
   "cell_type": "code",
   "execution_count": 19,
   "metadata": {},
   "outputs": [],
   "source": [
    "# Update a document in Firestore\n",
    "def update_document(collection, document_id, update_data):\n",
    "    db = firestore.client()\n",
    "    doc_ref = db.collection(collection).document(document_id)\n",
    "    doc_ref.update(update_data)\n",
    "    print('Document updated successfully!')"
   ]
  },
  {
   "cell_type": "code",
   "execution_count": 20,
   "metadata": {},
   "outputs": [
    {
     "name": "stdout",
     "output_type": "stream",
     "text": [
      "Document updated successfully!\n"
     ]
    }
   ],
   "source": [
    "# Usage example\n",
    "update_document('users', 'jnwH6X3990VE4FJbdpIT', {'name': 'Jane Smith'})\n"
   ]
  },
  {
   "attachments": {},
   "cell_type": "markdown",
   "metadata": {},
   "source": [
    "## Deleting a Document\n"
   ]
  },
  {
   "cell_type": "code",
   "execution_count": 21,
   "metadata": {},
   "outputs": [],
   "source": [
    "# Delete a document from Firestore\n",
    "def delete_document(collection, document_id):\n",
    "    db = firestore.client()\n",
    "    doc_ref = db.collection(collection).document(document_id)\n",
    "    doc_ref.delete()\n",
    "    print('Document deleted successfully!')"
   ]
  },
  {
   "cell_type": "code",
   "execution_count": 22,
   "metadata": {},
   "outputs": [
    {
     "name": "stdout",
     "output_type": "stream",
     "text": [
      "Document deleted successfully!\n"
     ]
    }
   ],
   "source": [
    "# Usage example\n",
    "delete_document('users', 'jnwH6X3990VE4FJbdpIT')\n"
   ]
  },
  {
   "cell_type": "code",
   "execution_count": null,
   "metadata": {},
   "outputs": [],
   "source": []
  }
 ],
 "metadata": {
  "kernelspec": {
   "display_name": "venv",
   "language": "python",
   "name": "python3"
  },
  "language_info": {
   "codemirror_mode": {
    "name": "ipython",
    "version": 3
   },
   "file_extension": ".py",
   "mimetype": "text/x-python",
   "name": "python",
   "nbconvert_exporter": "python",
   "pygments_lexer": "ipython3",
   "version": "3.8.10"
  },
  "orig_nbformat": 4
 },
 "nbformat": 4,
 "nbformat_minor": 2
}
