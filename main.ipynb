{
 "cells": [
  {
   "attachments": {},
   "cell_type": "markdown",
   "metadata": {},
   "source": [
    "# Firebase CRUD Operations"
   ]
  },
  {
   "attachments": {},
   "cell_type": "markdown",
   "metadata": {},
   "source": [
    "## Installing Dependencies"
   ]
  },
  {
   "cell_type": "code",
   "execution_count": null,
   "metadata": {},
   "outputs": [],
   "source": [
    "%pip install -r requirements.txt"
   ]
  },
  {
   "attachments": {},
   "cell_type": "markdown",
   "metadata": {},
   "source": [
    "## Initializing Firebase Admin SDK"
   ]
  },
  {
   "cell_type": "code",
   "execution_count": 1,
   "metadata": {},
   "outputs": [
    {
     "data": {
      "text/plain": [
       "<firebase_admin.App at 0x7f25083f7df0>"
      ]
     },
     "execution_count": 1,
     "metadata": {},
     "output_type": "execute_result"
    }
   ],
   "source": [
    "import firebase_admin\n",
    "from firebase_admin import credentials\n",
    "\n",
    "# Initialize Firebase Admin SDK\n",
    "cred = credentials.Certificate('serviceAccountKey.json')\n",
    "firebase_admin.initialize_app(cred)"
   ]
  },
  {
   "attachments": {},
   "cell_type": "markdown",
   "metadata": {},
   "source": [
    "## Creating a Document"
   ]
  },
  {
   "cell_type": "code",
   "execution_count": 2,
   "metadata": {},
   "outputs": [
    {
     "name": "stdout",
     "output_type": "stream",
     "text": [
      "Document created with ID: u5YwSULaHSq6jh86doW1\n"
     ]
    }
   ],
   "source": [
    "from firebase_admin import firestore\n",
    "\n",
    "# Create a new document in Firestore\n",
    "\n",
    "\n",
    "def create_document(collection, document_data):\n",
    "    db = firestore.client()\n",
    "    doc_ref = db.collection(collection).document()\n",
    "    doc_ref.set(document_data)\n",
    "    print('Document created with ID:', doc_ref.id)\n",
    "\n",
    "\n",
    "# Usage example\n",
    "create_document('users', {'name': 'John Doe', 'email': 'johndoe@example.com'})\n"
   ]
  },
  {
   "attachments": {},
   "cell_type": "markdown",
   "metadata": {},
   "source": [
    "## Reading a Document"
   ]
  },
  {
   "cell_type": "code",
   "execution_count": 4,
   "metadata": {},
   "outputs": [
    {
     "name": "stdout",
     "output_type": "stream",
     "text": [
      "Document data: {'email': 'johndoe@example.com', 'name': 'John Doe'}\n"
     ]
    }
   ],
   "source": [
    "# Read a document from Firestore\n",
    "def read_document(collection, document_id):\n",
    "    db = firestore.client()\n",
    "    doc_ref = db.collection(collection).document(document_id)\n",
    "    document = doc_ref.get()\n",
    "    if document.exists:\n",
    "        print('Document data:', document.to_dict())\n",
    "    else:\n",
    "        print('No such document!')\n",
    "\n",
    "\n",
    "# Usage example\n",
    "read_document('users', 'u5YwSULaHSq6jh86doW1')\n"
   ]
  },
  {
   "attachments": {},
   "cell_type": "markdown",
   "metadata": {},
   "source": [
    "## Updating a Document"
   ]
  },
  {
   "cell_type": "code",
   "execution_count": 5,
   "metadata": {},
   "outputs": [
    {
     "name": "stdout",
     "output_type": "stream",
     "text": [
      "Document updated successfully!\n"
     ]
    }
   ],
   "source": [
    "# Update a document in Firestore\n",
    "def update_document(collection, document_id, update_data):\n",
    "    db = firestore.client()\n",
    "    doc_ref = db.collection(collection).document(document_id)\n",
    "    doc_ref.update(update_data)\n",
    "    print('Document updated successfully!')\n",
    "\n",
    "\n",
    "# Usage example\n",
    "update_document('users', 'u5YwSULaHSq6jh86doW1', {'name': 'Jane Smith'})\n"
   ]
  },
  {
   "attachments": {},
   "cell_type": "markdown",
   "metadata": {},
   "source": [
    "## Deleting a Document"
   ]
  },
  {
   "cell_type": "code",
   "execution_count": 6,
   "metadata": {},
   "outputs": [
    {
     "name": "stdout",
     "output_type": "stream",
     "text": [
      "Document deleted successfully!\n"
     ]
    }
   ],
   "source": [
    "# Delete a document from Firestore\n",
    "def delete_document(collection, document_id):\n",
    "    db = firestore.client()\n",
    "    doc_ref = db.collection(collection).document(document_id)\n",
    "    doc_ref.delete()\n",
    "    print('Document deleted successfully!')\n",
    "\n",
    "\n",
    "# Usage example\n",
    "delete_document('users', 'u5YwSULaHSq6jh86doW1')\n"
   ]
  },
  {
   "cell_type": "code",
   "execution_count": null,
   "metadata": {},
   "outputs": [],
   "source": []
  }
 ],
 "metadata": {
  "kernelspec": {
   "display_name": "venv",
   "language": "python",
   "name": "python3"
  },
  "language_info": {
   "codemirror_mode": {
    "name": "ipython",
    "version": 3
   },
   "file_extension": ".py",
   "mimetype": "text/x-python",
   "name": "python",
   "nbconvert_exporter": "python",
   "pygments_lexer": "ipython3",
   "version": "3.8.10"
  },
  "orig_nbformat": 4
 },
 "nbformat": 4,
 "nbformat_minor": 2
}
